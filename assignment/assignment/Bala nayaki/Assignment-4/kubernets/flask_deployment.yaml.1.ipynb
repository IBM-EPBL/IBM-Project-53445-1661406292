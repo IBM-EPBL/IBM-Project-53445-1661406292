{
  "nbformat": 4,
  "nbformat_minor": 0,
  "metadata": {
    "colab": {
      "provenance": []
    },
    "kernelspec": {
      "name": "python3",
      "display_name": "Python 3"
    },
    "language_info": {
      "name": "python"
    }
  },
  "cells": [
    {
      "cell_type": "code",
      "execution_count": 1,
      "metadata": {
        "colab": {
          "base_uri": "https://localhost:8080/",
          "height": 131
        },
        "id": "BZZs-mOfr_74",
        "outputId": "f53f6916-90de-4b08-bbb7-c611b4c6e2f0"
      },
      "outputs": [
        {
          "output_type": "error",
          "ename": "SyntaxError",
          "evalue": "ignored",
          "traceback": [
            "\u001b[0;36m  File \u001b[0;32m\"<ipython-input-1-edb79a0241cf>\"\u001b[0;36m, line \u001b[0;32m3\u001b[0m\n\u001b[0;31m    metadata:\u001b[0m\n\u001b[0m             ^\u001b[0m\n\u001b[0;31mSyntaxError\u001b[0m\u001b[0;31m:\u001b[0m invalid syntax\n"
          ]
        }
      ],
      "source": [
        "apiVersion: apps/v1\n",
        "kind: Deployment\n",
        "metadata:\n",
        "  name: flask-app\n",
        "\n",
        "spec:\n",
        "  replicas: 5\n",
        "  selector:\n",
        "    matchLabels:\n",
        "      app: flask-app\n",
        "  template:\n",
        "    metadata:\n",
        "      labels:\n",
        "        app: flask-app\n",
        "\n",
        "    spec:\n",
        "      containers:\n",
        "        - name: flask-app-container\n",
        "          image: flask-app-testing\n",
        "          imagePullPolicy: Never\n",
        "          ports:\n",
        "            - containerPort: 5000\n",
        "              protocol: TCP"
      ]
    }
  ]
}