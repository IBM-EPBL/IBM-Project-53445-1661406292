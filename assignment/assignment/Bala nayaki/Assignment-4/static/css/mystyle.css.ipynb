{
  "nbformat": 4,
  "nbformat_minor": 0,
  "metadata": {
    "colab": {
      "provenance": []
    },
    "kernelspec": {
      "name": "python3",
      "display_name": "Python 3"
    },
    "language_info": {
      "name": "python"
    }
  },
  "cells": [
    {
      "cell_type": "code",
      "execution_count": null,
      "metadata": {
        "id": "OER1p_EMXQEU"
      },
      "outputs": [],
      "source": [
        ".head{\n",
        "    position: relative;\n",
        "    transition: transform 0.7s; \n",
        "}\n",
        ".head:hover\n",
        "{\n",
        "    transform: scale(1.1);\n",
        "}\n",
        ".pbut\n",
        "{\n",
        "    width: 150px;\n",
        "    height: 50px;\n",
        "    border-radius: 50px;\n",
        "    background-color: rgb(59, 153, 204);\n",
        "    border-color: rgba(11, 213, 254, 0);\n",
        "    transition: transform 0.2s; \n",
        "    font-weight: 600;\n",
        "    font-size: larger;\n",
        "}\n",
        ".pbut:hover\n",
        "{\n",
        "    transform: scale(1.1);\n",
        "}"
      ]
    }
  ]
}