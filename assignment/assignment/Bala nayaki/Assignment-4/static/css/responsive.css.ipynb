{
  "nbformat": 4,
  "nbformat_minor": 0,
  "metadata": {
    "colab": {
      "provenance": []
    },
    "kernelspec": {
      "name": "python3",
      "display_name": "Python 3"
    },
    "language_info": {
      "name": "python"
    }
  },
  "cells": [
    {
      "cell_type": "code",
      "execution_count": null,
      "metadata": {
        "id": "3Xnb0on7ZTdn"
      },
      "outputs": [],
      "source": [
        "/* Normal desktop :1200px. */\n",
        "@media (min-width: 1200px) and (max-width: 1500px) {\n",
        "\n",
        "\n",
        "}\n",
        "\n",
        "\n",
        "/* Normal desktop :992px. */\n",
        "@media (min-width: 992px) and (max-width: 1200px) {\n",
        "\n",
        "\n",
        "}\n",
        "\n",
        " \n",
        "/* Tablet desktop :768px. */\n",
        "@media (min-width: 768px) and (max-width: 991px) {\n",
        "\n",
        "\n",
        "}\n",
        "\n",
        " \n",
        "/* small mobile :320px. */\n",
        "@media (max-width: 767px) {\n",
        "\n",
        " \n",
        "}\n",
        " \n",
        "/* Large Mobile :480px. */\n",
        "@media only screen and (min-width: 480px) and (max-width: 767px) {\n",
        ".container {width:450px}\n",
        " \n",
        "}"
      ]
    }
  ]
}