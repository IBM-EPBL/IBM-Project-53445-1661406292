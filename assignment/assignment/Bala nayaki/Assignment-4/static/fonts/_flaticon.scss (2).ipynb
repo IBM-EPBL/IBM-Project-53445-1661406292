{
  "nbformat": 4,
  "nbformat_minor": 0,
  "metadata": {
    "colab": {
      "provenance": []
    },
    "kernelspec": {
      "name": "python3",
      "display_name": "Python 3"
    },
    "language_info": {
      "name": "python"
    }
  },
  "cells": [
    {
      "cell_type": "code",
      "execution_count": null,
      "metadata": {
        "id": "_iZdzswQfiM-"
      },
      "outputs": [],
      "source": [
        " /*\n",
        "    Flaticon icon font: Flaticon\n",
        "    Creation date: 10/03/2020 09:37\n",
        "    */\n",
        "\n",
        "    @font-face {\n",
        "  font-family: \"Flaticon\";\n",
        "  src: url(\"./Flaticon.eot\");\n",
        "  src: url(\"./Flaticon.eot?#iefix\") format(\"embedded-opentype\"),\n",
        "       url(\"./Flaticon.woff2\") format(\"woff2\"),\n",
        "       url(\"./Flaticon.woff\") format(\"woff\"),\n",
        "       url(\"./Flaticon.ttf\") format(\"truetype\"),\n",
        "       url(\"./Flaticon.svg#Flaticon\") format(\"svg\");\n",
        "  font-weight: normal;\n",
        "  font-style: normal;\n",
        "}\n",
        "\n",
        "@media screen and (-webkit-min-device-pixel-ratio:0) {\n",
        "  @font-face {\n",
        "    font-family: \"Flaticon\";\n",
        "    src: url(\"./Flaticon.svg#Flaticon\") format(\"svg\");\n",
        "  }\n",
        "}\n",
        "\n",
        "    .fi:before{\n",
        "        display: inline-block;\n",
        "  font-family: \"Flaticon\";\n",
        "  font-style: normal;\n",
        "  font-weight: normal;\n",
        "  font-variant: normal;\n",
        "  line-height: 1;\n",
        "  text-decoration: inherit;\n",
        "  text-rendering: optimizeLegibility;\n",
        "  text-transform: none;\n",
        "  -moz-osx-font-smoothing: grayscale;\n",
        "  -webkit-font-smoothing: antialiased;\n",
        "  font-smoothing: antialiased;\n",
        "    }\n",
        "\n",
        "    .flaticon-tour:before { content: \"\\f100\"; }\n",
        ".flaticon-report:before { content: \"\\f101\"; }\n",
        ".flaticon-cms:before { content: \"\\f102\"; }\n",
        ".flaticon-app:before { content: \"\\f103\"; }\n",
        ".flaticon-helmet:before { content: \"\\f104\"; }\n",
        ".flaticon-high-tech:before { content: \"\\f105\"; }\n",
        ".flaticon-real-estate:before { content: \"\\f106\"; }\n",
        ".flaticon-content:before { content: \"\\f107\"; }\n",
        ".flaticon-search:before { content: \"\\f108\"; }\n",
        ".flaticon-curriculum-vitae:before { content: \"\\f109\"; }\n",
        "    \n",
        "    $font-Flaticon-tour: \"\\f100\";\n",
        "    $font-Flaticon-report: \"\\f101\";\n",
        "    $font-Flaticon-cms: \"\\f102\";\n",
        "    $font-Flaticon-app: \"\\f103\";\n",
        "    $font-Flaticon-helmet: \"\\f104\";\n",
        "    $font-Flaticon-high-tech: \"\\f105\";\n",
        "    $font-Flaticon-real-estate: \"\\f106\";\n",
        "    $font-Flaticon-content: \"\\f107\";\n",
        "    $font-Flaticon-search: \"\\f108\";\n",
        "    $font-Flaticon-curriculum-vitae: \"\\f109\";"
      ]
    }
  ]
}