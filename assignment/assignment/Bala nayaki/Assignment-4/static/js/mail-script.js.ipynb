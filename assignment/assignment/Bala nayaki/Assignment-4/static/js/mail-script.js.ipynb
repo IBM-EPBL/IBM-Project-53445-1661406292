{
  "nbformat": 4,
  "nbformat_minor": 0,
  "metadata": {
    "colab": {
      "provenance": []
    },
    "kernelspec": {
      "name": "python3",
      "display_name": "Python 3"
    },
    "language_info": {
      "name": "python"
    }
  },
  "cells": [
    {
      "cell_type": "code",
      "execution_count": null,
      "metadata": {
        "id": "JYeVGrzouzYX"
      },
      "outputs": [],
      "source": [
        " // -------   Mail Send ajax\n",
        "\n",
        "     $(document).ready(function() {\n",
        "        var form = $('#myForm'); // contact form\n",
        "        var submit = $('.submit-btn'); // submit button\n",
        "        var alert = $('.alert-msg'); // alert div for show alert message\n",
        "\n",
        "        // form submit event\n",
        "        form.on('submit', function(e) {\n",
        "            e.preventDefault(); // prevent default form submit\n",
        "\n",
        "            $.ajax({\n",
        "                url: 'mail.php', // form action url\n",
        "                type: 'POST', // form submit method get/post\n",
        "                dataType: 'html', // request type html/json/xml\n",
        "                data: form.serialize(), // serialize form data\n",
        "                beforeSend: function() {\n",
        "                    alert.fadeOut();\n",
        "                    submit.html('Sending....'); // change submit button text\n",
        "                },\n",
        "                success: function(data) {\n",
        "                    alert.html(data).fadeIn(); // fade in response data\n",
        "                    form.trigger('reset'); // reset form\n",
        "                    submit.attr(\"style\", \"display: none !important\");; // reset submit button text\n",
        "                },\n",
        "                error: function(e) {\n",
        "                    console.log(e)\n",
        "                }\n",
        "            });\n",
        "        });\n",
        "    });"
      ]
    }
  ]
}