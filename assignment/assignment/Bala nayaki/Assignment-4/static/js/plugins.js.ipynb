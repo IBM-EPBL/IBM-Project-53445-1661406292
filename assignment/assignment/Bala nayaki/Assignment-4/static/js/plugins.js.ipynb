{
  "nbformat": 4,
  "nbformat_minor": 0,
  "metadata": {
    "colab": {
      "provenance": []
    },
    "kernelspec": {
      "name": "python3",
      "display_name": "Python 3"
    },
    "language_info": {
      "name": "python"
    }
  },
  "cells": [
    {
      "cell_type": "code",
      "execution_count": null,
      "metadata": {
        "id": "Gn4YJKsUwKXB"
      },
      "outputs": [],
      "source": [
        "// Avoid `console` errors in browsers that lack a console.\n",
        "(function() {\n",
        "    var method;\n",
        "    var noop = function () {};\n",
        "    var methods = [\n",
        "        'assert', 'clear', 'count', 'debug', 'dir', 'dirxml', 'error',\n",
        "        'exception', 'group', 'groupCollapsed', 'groupEnd', 'info', 'log',\n",
        "        'markTimeline', 'profile', 'profileEnd', 'table', 'time', 'timeEnd',\n",
        "        'timeline', 'timelineEnd', 'timeStamp', 'trace', 'warn'\n",
        "    ];\n",
        "    var length = methods.length;\n",
        "    var console = (window.console = window.console || {});\n",
        "\n",
        "    while (length--) {\n",
        "        method = methods[length];\n",
        "\n",
        "        // Only stub undefined methods.\n",
        "        if (!console[method]) {\n",
        "            console[method] = noop;\n",
        "        }\n",
        "    }\n",
        "}());\n",
        "\n",
        "// Place any jQuery/helper plugins in here."
      ]
    }
  ]
}