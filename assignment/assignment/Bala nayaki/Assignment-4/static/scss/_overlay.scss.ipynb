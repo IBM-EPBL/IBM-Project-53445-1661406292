{
  "nbformat": 4,
  "nbformat_minor": 0,
  "metadata": {
    "colab": {
      "provenance": []
    },
    "kernelspec": {
      "name": "python3",
      "display_name": "Python 3"
    },
    "language_info": {
      "name": "python"
    }
  },
  "cells": [
    {
      "cell_type": "code",
      "execution_count": null,
      "metadata": {
        "id": "rUtM3Eb99R8S"
      },
      "outputs": [],
      "source": [
        "/*--\n",
        "    - Overlay\n",
        "------------------------------------------*/\n",
        "[data-overlay] {\n",
        "    position: relative;\n",
        "    background-size: cover;\n",
        "    background-repeat: no-repeat;\n",
        "    background-position: center center;\n",
        "    &::before {\n",
        "        position: absolute;\n",
        "        left: 0;\n",
        "        top: 0;\n",
        "        right: 0;\n",
        "        bottom: 0;\n",
        "        content: \"\";\n",
        "    }\n",
        "}\n",
        "\n",
        "\n",
        "/*-- Overlay Opacity --*/\n",
        "[data-opacity=\"1\"] {\n",
        "    &::before {\n",
        "        opacity: 0.1;\n",
        "    }\n",
        "}\n",
        "[data-opacity=\"2\"] {\n",
        "    &::before {\n",
        "        opacity: 0.2;\n",
        "    }\n",
        "}\n",
        "[data-opacity=\"3\"] {\n",
        "    &::before {\n",
        "        opacity: 0.3;\n",
        "    }\n",
        "}\n",
        "[data-opacity=\"4\"] {\n",
        "    &::before {\n",
        "        opacity: 0.4;\n",
        "    }\n",
        "}\n",
        "[data-opacity=\"5\"] {\n",
        "    &::before {\n",
        "        opacity: 0.5;\n",
        "    }\n",
        "}\n",
        "[data-opacity=\"6\"] {\n",
        "    &::before {\n",
        "        opacity: 0.6;\n",
        "    }\n",
        "}\n",
        "[data-opacity=\"7\"] {\n",
        "    &::before {\n",
        "        opacity: 0.7;\n",
        "    }\n",
        "}\n",
        "[data-opacity=\"8\"] {\n",
        "    &::before {\n",
        "        opacity: 0.8;\n",
        "    }\n",
        "}\n",
        "[data-opacity=\"9\"] {\n",
        "    &::before {\n",
        "        opacity: 0.9;\n",
        "    }\n",
        "}\n"
      ]
    }
  ]
}