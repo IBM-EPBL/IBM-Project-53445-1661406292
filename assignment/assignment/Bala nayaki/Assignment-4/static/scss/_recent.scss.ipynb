{
  "nbformat": 4,
  "nbformat_minor": 0,
  "metadata": {
    "colab": {
      "provenance": []
    },
    "kernelspec": {
      "name": "python3",
      "display_name": "Python 3"
    },
    "language_info": {
      "name": "python"
    }
  },
  "cells": [
    {
      "cell_type": "code",
      "execution_count": null,
      "metadata": {
        "id": "QS5Xn37s94g8"
      },
      "outputs": [],
      "source": [
        ".recent-area{\n",
        "    .single-recent-cap{\n",
        "        .recent-img{\n",
        "            overflow: hidden;\n",
        "            & img{\n",
        "                width: 100%;\n",
        "                transform: scale(1);\n",
        "                @include transition(.5s);\n",
        "            }\n",
        "        }\n",
        "        .recent-cap{\n",
        "            padding: 20px 30px 20px 30px;\n",
        "            background: #fcfdff;\n",
        "            & span{\n",
        "                color: $theme_color;\n",
        "                font-size: 14px;\n",
        "                margin-bottom: 20px;\n",
        "                display: block;\n",
        "            }\n",
        "            & h4{\n",
        "                & a{\n",
        "                color: $heading-color;\n",
        "                font-size: 20px;\n",
        "                margin-bottom: 20px;\n",
        "                font-weight: 500px;\n",
        "                &:hover{\n",
        "                    color: $theme_color;\n",
        "                }\n",
        "                }\n",
        "\n",
        "            }\n",
        "            p{\n",
        "                color: #aebccb;\n",
        "                font-size: 14px;\n",
        "            }\n",
        "        }\n",
        "    }\n",
        "}\n",
        "\n",
        ".single-recent-cap:hover .recent-img img{\n",
        "    transform: scale(1.1);\n",
        "}"
      ]
    }
  ]
}