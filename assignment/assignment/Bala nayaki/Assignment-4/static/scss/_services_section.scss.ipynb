{
  "nbformat": 4,
  "nbformat_minor": 0,
  "metadata": {
    "colab": {
      "provenance": []
    },
    "kernelspec": {
      "name": "python3",
      "display_name": "Python 3"
    },
    "language_info": {
      "name": "python"
    }
  },
  "cells": [
    {
      "cell_type": "code",
      "execution_count": null,
      "metadata": {
        "id": "vj2Gdz27-e11"
      },
      "outputs": [],
      "source": [
        ".our-services{\n",
        "    .single-services{\n",
        "        border: 1px solid rgb(218, 252, 239);\n",
        "        padding: 44px 0;\n",
        "        @include transition(.4s);\n",
        "        .services-ion{\n",
        "            span{\n",
        "                font-size: 60px;\n",
        "                margin-bottom: 13px;\n",
        "                color: #014b85;\n",
        "                @include transition(.3s);\n",
        "            }\n",
        "        }\n",
        "        .services-cap{\n",
        "            h5{\n",
        "               a{\n",
        "                font-weight: 600;\n",
        "                font-size: 18px;\n",
        "                color: #001f38;\n",
        "                line-height: 1.4;\n",
        "                @include transition(.3s);\n",
        "               }\n",
        "            }\n",
        "            span{\n",
        "                color: #fb246a;\n",
        "                font-size:18px;\n",
        "            }\n",
        "        }\n",
        "        \n",
        "        // Hover Effect\n",
        "        &:hover {\n",
        "            box-shadow: 0px 10px 30px 0px rgba(133, 66, 189, 0.1);\n",
        "            .services-ion{\n",
        "                span{\n",
        "                    color:$theme-color;\n",
        "                }\n",
        "            }\n",
        "            .services-cap{\n",
        "               h5{\n",
        "                   a{\n",
        "                    color: $theme-color;\n",
        "                   }\n",
        "               }\n",
        "            }\n",
        "        }\n",
        "    }\n",
        "}"
      ]
    }
  ]
}