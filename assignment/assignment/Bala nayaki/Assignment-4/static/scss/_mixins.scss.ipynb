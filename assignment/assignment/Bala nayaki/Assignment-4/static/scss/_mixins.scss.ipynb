{
  "nbformat": 4,
  "nbformat_minor": 0,
  "metadata": {
    "colab": {
      "provenance": []
    },
    "kernelspec": {
      "name": "python3",
      "display_name": "Python 3"
    },
    "language_info": {
      "name": "python"
    }
  },
  "cells": [
    {
      "cell_type": "code",
      "execution_count": null,
      "metadata": {
        "id": "KGyoipn088d0"
      },
      "outputs": [],
      "source": [
        "@mixin transition($time) {\n",
        "\t-webkit-transition: all $time ease-out 0s;\n",
        "\t-moz-transition: all $time ease-out 0s;\n",
        "\t-ms-transition: all $time ease-out 0s;\n",
        "\t-o-transition: all $time ease-out 0s;\n",
        "\ttransition: all $time ease-out 0s;\n",
        "}\n",
        "\n",
        "@mixin transform($value) {\n",
        "  -webkit-transform: $value;\n",
        "      -ms-transform: $value;\n",
        "          transform: $value;\n",
        "}\n",
        "\n",
        "// @include transform(scale(1.1));\n",
        "Footer\n",
        "© 2022 GitHub, Inc.\n",
        "Footer navigation\n",
        "Terms\n",
        "Privacy"
      ]
    }
  ]
}