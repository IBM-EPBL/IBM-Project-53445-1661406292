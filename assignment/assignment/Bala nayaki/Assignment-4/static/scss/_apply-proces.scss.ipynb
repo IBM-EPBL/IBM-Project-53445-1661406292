{
  "nbformat": 4,
  "nbformat_minor": 0,
  "metadata": {
    "colab": {
      "provenance": []
    },
    "kernelspec": {
      "name": "python3",
      "display_name": "Python 3"
    },
    "language_info": {
      "name": "python"
    }
  },
  "cells": [
    {
      "cell_type": "code",
      "execution_count": null,
      "metadata": {
        "id": "8uVnjfcKyjUj"
      },
      "outputs": [],
      "source": [
        ".apply-process-area{\n",
        "    @media #{$xs}{\n",
        "        padding-top: 100px;\n",
        "        padding-bottom: 100px;\n",
        "    }\n",
        "    @media #{$sm}{\n",
        "        padding-top: 100px;\n",
        "        padding-bottom: 100px;\n",
        "    }\n",
        "    .single-process{\n",
        "        padding: 44px 28px;\n",
        "        background:#26317f;\n",
        "        @media #{$xs}{\n",
        "            padding: 34px 10px;\n",
        "        }\n",
        "        // Hover\n",
        "        &:hover {\n",
        "            .process-ion{\n",
        "                transform-style: preserve-3d;\n",
        "                transform: rotateY(-180deg);\n",
        "            }\n",
        "        }\n",
        "        // icon\n",
        "        .process-ion{\n",
        "            span{\n",
        "                font-size: 60px;\n",
        "                margin-bottom: 13px;\n",
        "                color: #fff;\n",
        "                margin-bottom: 20px;\n",
        "            }\n",
        "            transition: transform 650ms ease-in-out,\n",
        "            filter 650ms ease-in-out;\n",
        "        }\n",
        "        // Caption\n",
        "        .process-cap{\n",
        "            h5{\n",
        "                font-weight: 700;\n",
        "                font-size: 24px;\n",
        "                color: #fff;\n",
        "                line-height: 1.4;\n",
        "                margin-bottom: 20px;\n",
        "            }\n",
        "            p{\n",
        "                color: #a5aaca;\n",
        "            }\n",
        "        }\n",
        "    }\n",
        "}\n",
        "\n",
        "\n",
        ".apply-bg{\n",
        "    background-size: cover;\n",
        "    background-repeat: no-repeat;\n",
        "}"
      ]
    }
  ]
}