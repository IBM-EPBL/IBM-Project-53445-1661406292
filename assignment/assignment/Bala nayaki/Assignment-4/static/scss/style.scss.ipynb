{
  "nbformat": 4,
  "nbformat_minor": 0,
  "metadata": {
    "colab": {
      "provenance": []
    },
    "kernelspec": {
      "name": "python3",
      "display_name": "Python 3"
    },
    "language_info": {
      "name": "python"
    }
  },
  "cells": [
    {
      "cell_type": "code",
      "execution_count": null,
      "metadata": {
        "id": "ZLxVJAWbATq_"
      },
      "outputs": [],
      "source": [
        "/* Theme Description\n",
        "-------------------------------------------------\n",
        "\t  Theme Name:\n",
        "\t  Author:\n",
        "\t  Support:\n",
        "\t  Description:\n",
        "\t  Version:\n",
        "\t  \n",
        "------------------------------------------------- \n",
        "*/\n",
        "\n",
        "/* CSS Index\n",
        "-------------------------------------------------\n",
        "\t1. Theme default css\n",
        "\t2. header\n",
        "\t3. slider\n",
        "\t4. about-area\n",
        "\t5. features-box\n",
        "\t6. department\n",
        "\t7. team\n",
        "\t8. video-area\n",
        "\t9. counter\n",
        "\t10. footer\n",
        "-------------------------------------------------\n",
        "*/\n",
        "\n",
        "// Defult\n",
        "\t@import 'variables';\n",
        "\t@import 'mixins';\n",
        "\t@import 'overlay';\n",
        "\t@import 'common';\n",
        "\t@import 'color';\n",
        "\n",
        "\n",
        "// Defult Element Page\n",
        "\t@import 'blog_page';\n",
        "\t@import 'blog';\n",
        "\t@import 'contact';\n",
        "\t@import 'bradcam';\n",
        "\t@import 'extend';\n",
        "\t@import 'elements';\n",
        "\n",
        "\n",
        "// Homepage1\n",
        "\t@import 'headerMenu';\n",
        "\t@import 'h1-hero';\n",
        "\t@import 'team';\n",
        "\t@import 'services_section';\n",
        "\t@import 'cv-online';\n",
        "\t@import 'apply-proces';\n",
        "\t@import 'support-company';\n",
        "\t@import 'featured-Jobs';\n",
        "\t@import 'testimonial';\n",
        "\t@import 'footer';\n",
        "\n",
        "// inner Page\n",
        "\t@import 'services';\n",
        "\t@import 'job_details';\n",
        "\t@import 'job_listing';\n",
        "\t@import 'pagination';\n",
        "\n"
      ]
    }
  ]
}