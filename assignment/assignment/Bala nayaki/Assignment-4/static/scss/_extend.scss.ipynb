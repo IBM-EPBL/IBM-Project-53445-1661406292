{
  "nbformat": 4,
  "nbformat_minor": 0,
  "metadata": {
    "colab": {
      "provenance": []
    },
    "kernelspec": {
      "name": "python3",
      "display_name": "Python 3"
    },
    "language_info": {
      "name": "python"
    }
  },
  "cells": [
    {
      "cell_type": "code",
      "execution_count": null,
      "metadata": {
        "id": "c7FJziKH2mid"
      },
      "outputs": [],
      "source": [
        ".flex-center-start{\n",
        "    display: -webkit-box;\n",
        "display: -ms-flexbox;\n",
        "display: flex;\n",
        "-webkit-box-align: center;\n",
        "    -ms-flex-align: center;\n",
        "        align-items: center;\n",
        "-webkit-box-pack: start;\n",
        "    -ms-flex-pack: start;\n",
        "        justify-content: start;\n",
        "}\n",
        "\n",
        "%overlay{\n",
        "\tbackground-image: -moz-linear-gradient( 170deg, rgba(34,34,34,0) 0%, rgb(0,0,0) 100%);\n",
        "\tbackground-image: -webkit-linear-gradient( 170deg, rgba(34,34,34,0) 0%, rgb(0,0,0) 100%);\n",
        "\tbackground-image: -ms-linear-gradient( 170deg, rgba(34,34,34,0) 0%, rgb(0,0,0) 100%);\n",
        "  }\n",
        "\n",
        "  %btn_gradient{\n",
        "    background-image: -moz-linear-gradient( 0deg, rgb(241,68,55) 0%, rgb(237,91,13) 99%);\n",
        "    background-image: -webkit-linear-gradient( 0deg, rgb(241,68,55) 0%, rgb(237,91,13) 99%);\n",
        "    background-image: -ms-linear-gradient( 0deg, rgb(241,68,55) 0%, rgb(237,91,13) 99%);\n",
        "  }\n",
        "  \n",
        "// Home Page Gradient\n",
        "\n",
        "%gradient_team{\n",
        "              /* Permalink - use to edit and share this gradient: https://colorzilla.com/gradient-editor/#021a47+0,021a47+100&0+0,0.6+100 */\n",
        "              background: -moz-linear-gradient(top,  rgba(2,26,71,0) 0%, rgba(2,26,71,0.6) 100%); /* FF3.6-15 */\n",
        "              background: -webkit-linear-gradient(top,  rgba(2,26,71,0) 0%,rgba(2,26,71,0.6) 100%); /* Chrome10-25,Safari5.1-6 */\n",
        "              background: linear-gradient(to bottom,  rgba(2,26,71,0) 0%,rgba(2,26,71,0.6) 100%); /* W3C, IE10+, FF16+, Chrome26+, Opera12+, Safari7+ */\n",
        "              filter: progid:DXImageTransform.Microsoft.gradient( startColorstr='#00021a47', endColorstr='#99021a47',GradientType=0 ); /* IE6-9 */\n",
        "}\n",
        "\n",
        "%fradient_gallery{\n",
        "      /* Permalink - use to edit and share this gradient: https://colorzilla.com/gradient-editor/#021a47+0,021a47+100&0+0,0.6+100 */\n",
        "      background: -moz-linear-gradient(top, rgba(2,26,71,0) 0%, rgba(2,26,71,0.6) 100%); /* FF3.6-15 */\n",
        "      background: -webkit-linear-gradient(top, rgba(2,26,71,0) 0%,rgba(2,26,71,0.6) 100%); /* Chrome10-25,Safari5.1-6 */\n",
        "      background: linear-gradient(to bottom, rgba(2,26,71,0) 0%,rgba(2,26,71,0.6) 100%); /* W3C, IE10+, FF16+, Chrome26+, Opera12+, Safari7+ */\n",
        "      filter: progid:DXImageTransform.Microsoft.gradient( startColorstr='#00021a47', endColorstr='#99021a47',GradientType=0 ); /* IE6-9 */\n",
        "\n",
        "\n",
        "}"
      ]
    }
  ]
}