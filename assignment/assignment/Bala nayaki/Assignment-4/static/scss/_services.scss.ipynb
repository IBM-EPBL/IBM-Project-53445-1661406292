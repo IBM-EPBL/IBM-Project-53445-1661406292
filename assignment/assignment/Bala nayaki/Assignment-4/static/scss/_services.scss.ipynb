{
  "nbformat": 4,
  "nbformat_minor": 0,
  "metadata": {
    "colab": {
      "provenance": []
    },
    "kernelspec": {
      "name": "python3",
      "display_name": "Python 3"
    },
    "language_info": {
      "name": "python"
    }
  },
  "cells": [
    {
      "cell_type": "code",
      "execution_count": null,
      "metadata": {
        "id": "jSnA2lk0-NW1"
      },
      "outputs": [],
      "source": [
        "// Hero\n",
        ".hero-caption{\n",
        "    & span{\n",
        "        color: #fff;\n",
        "        font-size: 16px;\n",
        "        display: block;\n",
        "        margin-bottom: 24px;\n",
        "        font-weight: 600;\n",
        "        padding-left: 95px;\n",
        "        position: relative;\n",
        "        &::before{\n",
        "            position: absolute;\n",
        "            content: \"\";\n",
        "            width: 75px;\n",
        "            height: 3px;\n",
        "            background:$theme-color;\n",
        "            left: 0;\n",
        "            top: 52%;\n",
        "            transform: translateY(-50%);\n",
        "        }\n",
        "    }\n",
        "    & h2{\n",
        "        color: #fff;\n",
        "        font-size: 50px;\n",
        "        font-weight: 700;\n",
        "    }\n",
        "}\n"
      ]
    }
  ]
}