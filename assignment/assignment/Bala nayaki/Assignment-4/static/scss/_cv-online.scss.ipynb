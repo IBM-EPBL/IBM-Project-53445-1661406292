{
  "nbformat": 4,
  "nbformat_minor": 0,
  "metadata": {
    "colab": {
      "provenance": []
    },
    "kernelspec": {
      "name": "python3",
      "display_name": "Python 3"
    },
    "language_info": {
      "name": "python"
    }
  },
  "cells": [
    {
      "cell_type": "code",
      "execution_count": null,
      "metadata": {
        "id": "j8Nglplc18u_"
      },
      "outputs": [],
      "source": [
        ".online-cv{\n",
        "    @media #{$xs}{\n",
        "        padding-top: 80px;\n",
        "        padding-bottom: 90px;\n",
        "    }\n",
        "    .cv-caption{\n",
        "        .pera1{\n",
        "            font-family: $font_1;\n",
        "            color: #fff;\n",
        "            text-transform: uppercase;\n",
        "            @media #{$xs}{\n",
        "                margin-bottom: 25px;\n",
        "              }\n",
        "        }\n",
        "        .pera2{\n",
        "            font-family: $font_1;\n",
        "            color: #fff;  \n",
        "            font-weight: 700;\n",
        "            font-size: 60px;\n",
        "            line-height: 1.3;\n",
        "            margin-bottom: 51px;\n",
        "            @media #{$xs}{\n",
        "              font-size: 27px;\n",
        "            }\n",
        "        }\n",
        "    }\n",
        "}\n",
        ".cv-bg{\n",
        "    background-size: cover;\n",
        "    background-repeat: no-repeat;\n",
        "}"
      ]
    }
  ]
}