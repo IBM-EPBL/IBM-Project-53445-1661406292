{
  "nbformat": 4,
  "nbformat_minor": 0,
  "metadata": {
    "colab": {
      "provenance": []
    },
    "kernelspec": {
      "name": "python3",
      "display_name": "Python 3"
    },
    "language_info": {
      "name": "python"
    }
  },
  "cells": [
    {
      "cell_type": "code",
      "execution_count": null,
      "metadata": {
        "id": "cSTNN6Ik9mno"
      },
      "outputs": [],
      "source": [
        "// Pagination Area\n",
        ".pagination-area{\n",
        "    @media #{$lg}{\n",
        "        padding-bottom: 50px;\n",
        "    }\n",
        "    @media #{$md}{\n",
        "        padding-bottom: 50px;\n",
        "    }\n",
        "    @media #{$sm}{\n",
        "        padding-bottom: 50px;\n",
        "    }\n",
        "    @media #{$xs}{\n",
        "        padding-bottom: 50px;\n",
        "    }\n",
        "    .page-item {\n",
        "        margin: 0;\n",
        "    }\n",
        "    .page-item:first-child {margin: 0;}\n",
        "    .page-link {\n",
        "        border:0;\n",
        "        font-size: 15px;\n",
        "        text-align: center;\n",
        "        background: none;\n",
        "        box-shadow: none;\n",
        "        outline: 0;\n",
        "        color:#777777;\n",
        "        padding: 11px 12px;\n",
        "        background: #fff;\n",
        "        margin: 0 3px;\n",
        "        border-radius: 5px;\n",
        "        border: 1px solid #f0f0f0;\n",
        "    }\n",
        "    .page-link:hover {\n",
        "        color:$theme-color;\n",
        "    }\n",
        "    .page-item.active .page-link {\n",
        "        z-index: 1;\n",
        "        border: 0;\n",
        "        position: relative;\n",
        "        box-shadow: none;\n",
        "        outline: 0;\n",
        "        background:#242b5e;\n",
        "        color:#fff;\n",
        "    }\n",
        "}"
      ]
    }
  ]
}