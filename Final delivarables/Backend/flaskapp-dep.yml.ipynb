{
  "nbformat": 4,
  "nbformat_minor": 0,
  "metadata": {
    "colab": {
      "provenance": []
    },
    "kernelspec": {
      "name": "python3",
      "display_name": "Python 3"
    },
    "language_info": {
      "name": "python"
    }
  },
  "cells": [
    {
      "cell_type": "code",
      "execution_count": null,
      "metadata": {
        "id": "cOz_92NeLRAx"
      },
      "outputs": [],
      "source": [
        "apiVersion: apps/v1\n",
        "kind: Deployment\n",
        "metadata:\n",
        "  name: flaskapi-deployment\n",
        "  labels:\n",
        "    app: flaskapi\n",
        "spec:\n",
        "  selector:\n",
        "    matchLabels:\n",
        "      app: flaskapi\n",
        "  template:\n",
        "    metadata:\n",
        "      labels:\n",
        "        app: flaskapi\n",
        "    spec:\n",
        "      containers:\n",
        "        - name: flaskapi\n",
        "          image: jsv2811/news-tracker:v1\n",
        "          imagePullPolicy: Always\n",
        "          ports:\n",
        "            - containerPort: 8000\n",
        "---\n",
        "apiVersion: v1\n",
        "kind: Service\n",
        "metadata:\n",
        "  name: flask-service\n",
        "spec:\n",
        "  ports:\n",
        "  - port: 8000\n",
        "    protocol: TCP\n",
        "    targetPort: 8000\n",
        "  selector:\n",
        "    app: flaskapi\n",
        "  type: NodePort"
      ]
    }
  ]
}