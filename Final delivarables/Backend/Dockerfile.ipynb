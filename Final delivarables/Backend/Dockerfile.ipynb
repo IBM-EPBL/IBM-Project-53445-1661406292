{
  "nbformat": 4,
  "nbformat_minor": 0,
  "metadata": {
    "colab": {
      "provenance": []
    },
    "kernelspec": {
      "name": "python3",
      "display_name": "Python 3"
    },
    "language_info": {
      "name": "python"
    }
  },
  "cells": [
    {
      "cell_type": "code",
      "execution_count": null,
      "metadata": {
        "id": "Cc6uJzq9KoHv"
      },
      "outputs": [],
      "source": [
        "# syntax=docker/dockerfile:1\n",
        "\n",
        "FROM python\n",
        "\n",
        "WORKDIR /backend\n",
        "\n",
        "COPY requirements.txt requirements.txt\n",
        "RUN apt-get update\n",
        "RUN apt-get -y upgrade\n",
        "RUN pip install --upgrade pip\n",
        "RUN apt-get install -y gcc\n",
        "RUN apt-get install -y libxml2\n",
        "RUN pip install --upgrade setuptools\n",
        "RUN pip3 install -r requirements.txt\n",
        "COPY . .\n",
        "CMD [\"gunicorn\",\"-w\",\"1\",\"-b\",\"0.0.0.0:8000\",\"wsgi:app\",\"--threads\",\"12\"]\n",
        "#CMD [\"gunicorn\",\"--certfile\",\"rootCA.crt.pem\",\"--keyfile\",\"rootCA.key.pem\",\"-b\",\"0.0.0.0:8000\",\"wsgi:app\"]\n",
        "Footer\n",
        "© 2022 GitHub, Inc.\n",
        "Footer navigation\n",
        "Terms\n",
        "P"
      ]
    }
  ]
}