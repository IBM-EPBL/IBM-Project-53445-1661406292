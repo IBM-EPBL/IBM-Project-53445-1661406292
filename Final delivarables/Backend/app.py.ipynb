{
  "nbformat": 4,
  "nbformat_minor": 0,
  "metadata": {
    "colab": {
      "provenance": []
    },
    "kernelspec": {
      "name": "python3",
      "display_name": "Python 3"
    },
    "language_info": {
      "name": "python"
    }
  },
  "cells": [
    {
      "cell_type": "code",
      "execution_count": null,
      "metadata": {
        "id": "dGE_yHH6K9d6"
      },
      "outputs": [],
      "source": [
        "from dotenv import dotenv_values\n",
        "from apiFetch import *\n",
        "from flask import Flask\n",
        "from flask_cors import CORS\n",
        "from routes.register import Register\n",
        "from routes.checkEmail import CheckEmail\n",
        "from routes.verify import Verify\n",
        "from routes.getnews import *\n",
        "from routes.islogin import IsLogin\n",
        "from routes.login import Login\n",
        "from routes.logout import LogOut\n",
        "from routes.bookmarks import Bookamark,UnBookMark\n",
        "from flask_restful import Api\n",
        "from utils.apiFetch import apiRunner\n",
        "\n",
        "app = Flask(__name__)\n",
        "api = Api(app)\n",
        "\n",
        "data = dotenv_values(\".env\")\n",
        "app.config['SECRET_KEY'] = data[\"secret_key\"]\n",
        "app.config['SECURITY_PASSWORD_SALT'] = data[\"secured_password_salt\"]\n",
        "\n",
        "apiRunner()\n",
        "\n",
        "\n",
        "CORS(app, supports_credentials=True)\n",
        "\n",
        "api.add_resource(Login, '/login')\n",
        "api.add_resource(IsLogin,'/islogin')\n",
        "api.add_resource(CheckEmail, '/register/check')\n",
        "api.add_resource(Register, '/register')\n",
        "api.add_resource(Verify, '/register/verify')\n",
        "api.add_resource(Personal, '/news/recommended')\n",
        "api.add_resource(News, '/news/<topic>')\n",
        "api.add_resource(LogOut,'/logout')\n",
        "api.add_resource(Bookamark,\"/bookmark\")\n",
        "api.add_resource(UnBookMark,\"/unbookmark\")"
      ]
    }
  ]
}