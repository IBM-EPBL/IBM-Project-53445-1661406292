{
  "nbformat": 4,
  "nbformat_minor": 0,
  "metadata": {
    "colab": {
      "provenance": []
    },
    "kernelspec": {
      "name": "python3",
      "display_name": "Python 3"
    },
    "language_info": {
      "name": "python"
    }
  },
  "cells": [
    {
      "cell_type": "code",
      "execution_count": null,
      "metadata": {
        "id": "AVbFMhiiZ-ft"
      },
      "outputs": [],
      "source": [
        "# Final Deliverables\n",
        "## Team ID:PNT2022TMID48038\n",
        "\n",
        "## Introduction:\n",
        "NewsTracker is a fullstack web application which allows users to register along with their favourite topics, upon login the app displays the news based on the user’s interest. The news displayed in the app is based on the Newcatcher API and Cricbuzz API from Rapid API site.\n",
        "\n",
        "## FrontEnd:\n",
        "For the Frontend we have used HTML,CSS, Javascript. We have designed the UI in Figma and the design was simple and minimalistic. We have designed the frontend such that it works well in both mobiles and PCs.\n",
        "\n",
        "## BackEnd:\n",
        "For the Backend we have used Python Flask. We have designed the backend based on the REST model. We have used IBM DB2 for the database and as mentioned above we have used newscatcher and cricbuzz APIs for the news and we have used SendinBlue for the email verification of the user, since we were not able to create an account in Sendgrid we switched to SendinBlue for the mail service. We have used Json web token to authenticate users and manage user sessions.\n",
        "\n",
        "## Performance:\n",
        "We have tested the App in both mobile and PC and it worked well. It takes around 1-2 seconds for the user to login and 5-8 seconds to load the news content. The app didn’t crash upon multiple request and it handled multiple requests effortlessly. We have implemented infinite scrolling mechanism which loads the data whenever the user scrolls the screen , this helps the user to save data and helps the app to load fast.\n",
        "\n",
        "## URLs for the site:\n",
        "- [Live website Link](http://159.122.183.93:31965)\n",
        "- [Demo video link](https://youtu.be/qSX9ildVbq8)\n",
        "\n",
        "## Team Members:\n",
        "- Bala nayaki.P - 7179KCTKCTKCTKCTKCTKCT19BIT026\n",
        "- Saranya.R- 7179KCTKCTKCTKCTKCTKCT19BIT030\n",
        "-  Enbarasi.S- 7179KCTKCTKCTKCTKCTKCT19BIT032\n",
        "- Poonkodi.K - 7179KCTKCTKCTKCTKCTKCT19BIT036"
      ]
    }
  ]
}