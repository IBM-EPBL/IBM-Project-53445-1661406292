{
  "nbformat": 4,
  "nbformat_minor": 0,
  "metadata": {
    "colab": {
      "provenance": []
    },
    "kernelspec": {
      "name": "python3",
      "display_name": "Python 3"
    },
    "language_info": {
      "name": "python"
    }
  },
  "cells": [
    {
      "cell_type": "code",
      "execution_count": null,
      "metadata": {
        "id": "xGA1Oj2pZjsq"
      },
      "outputs": [],
      "source": [
        "const express=require(\"express\")\n",
        "const app=express();\n",
        "\n",
        "app.use(express.static('/'));\n",
        "\n",
        "const server=app.listen(5000,()=>{\n",
        "\tconst port=server.address().port;\n",
        "\tconsole.log(\"Server started at http://localhost:%s\",port);\n",
        "});"
      ]
    }
  ]
}