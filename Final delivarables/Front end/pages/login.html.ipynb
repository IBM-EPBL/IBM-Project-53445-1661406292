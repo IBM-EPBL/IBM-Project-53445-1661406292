{
  "nbformat": 4,
  "nbformat_minor": 0,
  "metadata": {
    "colab": {
      "provenance": []
    },
    "kernelspec": {
      "name": "python3",
      "display_name": "Python 3"
    },
    "language_info": {
      "name": "python"
    }
  },
  "cells": [
    {
      "cell_type": "code",
      "execution_count": null,
      "metadata": {
        "id": "Pnv_QR-XXny2"
      },
      "outputs": [],
      "source": [
        "<!DOCTYPE html>\n",
        "<html lang=\"en\">\n",
        "    <head>\n",
        "        <meta charset=\"UTF-8\">\n",
        "        <meta http-equiv=\"X-UA-Compatible\" content=\"IE=edge\">\n",
        "        <meta name=\"viewport\" content=\"width=device-width, initial-scale=1.0\">\n",
        "        <title>Login and Sign Up Page</title>\n",
        "        <!--font awesome-->\n",
        "        <link rel=\"stylesheet\" href=\"https://cdnjs.cloudflare.com/ajax/libs/font-awesome/6.2.0/css/all.min.css\">\n",
        "        <!--custom css file link-->\n",
        "        <link rel=\"stylesheet\" href=\"../css/login.css\">\n",
        "    </head>\n",
        "    <body>\n",
        "        <div class=\"container\" id=\"container\">\n",
        "            <div class=\"form-container sign-up-container\">\n",
        "                <form id=\"signup-form\" onsubmit=\"return false;\">\n",
        "                    <h1>Create Account</h1>\n",
        "                    <span>You can use your custom email</span>\n",
        "                    <input type=\"text\" placeholder=\"NAME\" class=\"box\" required autocomplete=\"name\">\n",
        "                    <input type=\"email\" placeholder=\"E-mail\" class=\"box\" required autocomplete=\"email\">\n",
        "                    <input type=\"password\" placeholder=\"PASSWORD\" class=\"box\" required autocomplete=\"current-password\">\n",
        "                    <input type=\"password\" placeholder=\"RE-ENTER PASSWORD\" class=\"box\" required autocomplete=\"current-password\">\n",
        "                    <button class=\"btn\">Sign Up</button>\n",
        "                    <h2></h2>\n",
        "                </form>\n",
        "            </div>\n",
        "            <div class=\"form-container sign-in-container\">\n",
        "                <form onsubmit=\"return false;\">\n",
        "                    <h1>Sign In</h1>\n",
        "                    <span>Enter your sign in credentials</span>\n",
        "                    <input type=\"email\" placeholder=\"E-mail\" class=\"box\" autocomplete=\"email\">\n",
        "                    <input type=\"password\" placeholder=\"PASSWORD\" class=\"box\" autocomplete=\"current-password\">\n",
        "                    <button class=\"btn\">Sign In</button>\n",
        "                    <h2></h2>\n",
        "                </form>\n",
        "            </div>\n",
        "            <div class=\"overlay-container\">\n",
        "                <div class=\"overlay\">\n",
        "                    <div class=\"overlay-panel overlay-left\">\n",
        "                        <div class=\"container-checkbox\">\n",
        "                            <ul class=\"ks-cboxtags\">\n",
        "                              <li><input type=\"checkbox\" id=\"checkboxOne\" value=\"sport\" checked><label for=\"checkboxOne\">sport</label></li>\n",
        "                              <li><input type=\"checkbox\" id=\"checkboxTwo\" value=\"tech\" checked><label for=\"checkboxTwo\">tech</label></li>\n",
        "                              <li><input type=\"checkbox\" id=\"checkboxThree\" value=\"world\"><label for=\"checkboxThree\">world</label></li>\n",
        "                              <li><input type=\"checkbox\" id=\"checkboxFour\" value=\"finance\"><label for=\"checkboxFour\">finance</label></li>\n",
        "                              <li><input type=\"checkbox\" id=\"checkboxFive\" value=\"politics\" checked><label for=\"checkboxFive\">politics</label></li>\n",
        "                              <li><input type=\"checkbox\" id=\"checkboxSix\" value=\"business\"><label for=\"checkboxSix\">business</label></li>\n",
        "                              <li><input type=\"checkbox\" id=\"checkboxSeven\" value=\"economics\"><label for=\"checkboxSeven\">economics</label></li>\n",
        "                              <li><input type=\"checkbox\" id=\"checkboxEight\" value=\"entertainment\"><label for=\"checkboxEight\">entertainment</label></li>\n",
        "                              <li><input type=\"checkbox\" id=\"checkboxNine\" value=\"beauty\"><label for=\"checkboxNine\">beauty</label></li>\n",
        "                              <li><input type=\"checkbox\" id=\"checkboxTen\" value=\"travel\"><label for=\"checkboxTen\">travel</label></li>\n",
        "                              <li><input type=\"checkbox\" id=\"checkboxEleven\" value=\"music\"><label for=\"checkboxEleven\">music</label></li>\n",
        "                              <li><input type=\"checkbox\" id=\"checkboxTwelve\" value=\"food\"><label for=\"checkboxTwelve\">food</label></li>\n",
        "                              <li><input type=\"checkbox\" id=\"checkboxThirteen\" value=\"science\"><label for=\"checkboxThirteen\">science</label></li>\n",
        "                              <li><input type=\"checkbox\" id=\"checkboxFourteen\" value=\"cricket\"><label for=\"checkboxFourteen\">cricket</label></li>\n",
        "                            </ul>\n",
        "                          </div>\n",
        "                        <h1>Already registed ?</h1>\n",
        "                        <button class=\"btn\" id=\"signin\">sign in</button>\n",
        "                    </div>\n",
        "                    <div class=\"overlay-panel overlay-right\">\n",
        "                    <h1>Welcome to latest world updates!</h1>\n",
        "                    <button class=\"btn\" id=\"signup\">sign up</button>\n",
        "                    </div>\n",
        "                </div>\n",
        "            </div>\n",
        "        </div>\n",
        "    <script src=\"../js/login.js\" type=\"module\"></script>\n",
        "    </body>\n",
        "</html>"
      ]
    }
  ]
}