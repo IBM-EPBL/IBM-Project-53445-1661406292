{
  "nbformat": 4,
  "nbformat_minor": 0,
  "metadata": {
    "colab": {
      "provenance": []
    },
    "kernelspec": {
      "name": "python3",
      "display_name": "Python 3"
    },
    "language_info": {
      "name": "python"
    }
  },
  "cells": [
    {
      "cell_type": "code",
      "execution_count": null,
      "metadata": {
        "id": "XTSSSWcvY-iF"
      },
      "outputs": [],
      "source": [
        "apiVersion: apps/v1\n",
        "kind: Deployment\n",
        "metadata:\n",
        "  name: node-deployment\n",
        "  labels:\n",
        "    app: node\n",
        "spec:\n",
        "  selector:\n",
        "    matchLabels:\n",
        "      app: node\n",
        "  template:\n",
        "    metadata:\n",
        "      labels:\n",
        "        app: node\n",
        "    spec:\n",
        "      containers:\n",
        "        - name: node\n",
        "          image: jsv2811/news-tracker-frontend:v2\n",
        "          imagePullPolicy: Always\n",
        "          ports:\n",
        "            - containerPort: 5000\n",
        "---\n",
        "apiVersion: v1\n",
        "kind: Service\n",
        "metadata:\n",
        "  name: node-service\n",
        "spec:\n",
        "  ports:\n",
        "  - port: 5000\n",
        "    protocol: TCP\n",
        "    targetPort: 5000\n",
        "  selector:\n",
        "    app: node\n",
        "  type: NodePort"
      ]
    }
  ]
}