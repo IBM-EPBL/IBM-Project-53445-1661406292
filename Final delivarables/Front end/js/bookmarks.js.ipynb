{
  "nbformat": 4,
  "nbformat_minor": 0,
  "metadata": {
    "colab": {
      "provenance": []
    },
    "kernelspec": {
      "name": "python3",
      "display_name": "Python 3"
    },
    "language_info": {
      "name": "python"
    }
  },
  "cells": [
    {
      "cell_type": "code",
      "execution_count": null,
      "metadata": {
        "id": "n9rcScg3UtZb"
      },
      "outputs": [],
      "source": [
        "import { getter, poster } from \"./modules/server.js\";\n",
        "\n",
        "let verticalWrapper = document.querySelector(\".vertical-wrapper\");\n",
        "let bookmarkLoadingIcon = document.querySelector(\".animation-container\");\n",
        "\n",
        "async function fetcher() {\n",
        "  let data = await getter(\"bookmark\");\n",
        "  verticalWrapper.innerHTML = \"\";\n",
        "  data[\"data\"].forEach((d, i) => {\n",
        "    d = JSON.parse(d);\n",
        "    let element = elementCreator(d, data[\"id\"][i]);\n",
        "    verticalWrapper.appendChild(element);\n",
        "  });\n",
        "}\n",
        "\n",
        "function elementCreator(d, id) {\n",
        "  console.log(d);\n",
        "  let element = document.createElement(\"div\");\n",
        "  element.className = \"news_wrapper\";\n",
        "  element.dataset.href = `news.html?url=${d[\"url\"]}`;\n",
        "  element.dataset.id = id;\n",
        "  element.innerHTML = `\n",
        "    <img class=\"bookmark\" src=\"../assets/bookmark-solid.svg\" alt=\"\" />\n",
        "    <div class=\"news_cont\">\n",
        "      <div class=\"img_cont\">\n",
        "        <img\n",
        "          src=${d[\"img\"] || d[\"image\"]}\n",
        "          alt=\"\"\n",
        "          class=\"news_thumbnail\"\n",
        "        />\n",
        "      </div>\n",
        "      <div class=\"news_content\">\n",
        "        <h2 class=\"news_heading\">\n",
        "          ${d[\"title\"]}\n",
        "        </h2>\n",
        "        <div class=\"news-footer\">\n",
        "          <h3 class=\"date\">${d[\"date\"]}</h3>\n",
        "          <h3 class=\"topic\">${d[\"topic\"]}</h3>\n",
        "        </div>\n",
        "      </div>\n",
        "    </div>`;\n",
        "  addEventListeners(element);\n",
        "  return element;\n",
        "}\n",
        "\n",
        "function addEventListeners(t) {\n",
        "  t.addEventListener(\"click\", async (e) => {\n",
        "    if (e.target.className === \"bookmark\") {\n",
        "      bookmarkLoadingIcon.classList.remove(\"none\");\n",
        "      await poster(\"unbookmark\", { id: t.dataset.id });\n",
        "      bookmarkLoadingIcon.classList.add(\"none\");\n",
        "      verticalWrapper.removeChild(t);\n",
        "    } else {\n",
        "      location.href = t.dataset.href;\n",
        "    }\n",
        "  });\n",
        "}\n",
        "\n",
        "document.querySelector(\".logout\").addEventListener(\"click\",()=>{\n",
        "    getter(\"logout\");\n",
        "})\n",
        "\n",
        "fetcher();"
      ]
    }
  ]
}