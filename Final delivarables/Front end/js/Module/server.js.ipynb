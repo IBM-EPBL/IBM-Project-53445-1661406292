{
  "nbformat": 4,
  "nbformat_minor": 0,
  "metadata": {
    "colab": {
      "provenance": []
    },
    "kernelspec": {
      "name": "python3",
      "display_name": "Python 3"
    },
    "language_info": {
      "name": "python"
    }
  },
  "cells": [
    {
      "cell_type": "code",
      "execution_count": null,
      "metadata": {
        "id": "iJPdkhZ0UUo1"
      },
      "outputs": [],
      "source": [
        "const browserData=async()=>{\n",
        "    let t1=JSON.stringify(window.navigator.userAgentData)\n",
        "    let t2=window.navigator.userAgent\n",
        "    let data=t1+t2;\n",
        "    return data;\n",
        "}\n",
        "// URL=`https://159.122.183.93:30582`\n",
        "URL=`http://localhost:8000`\n",
        "export const poster=async(endpoint,data)=>{\n",
        "    let url=`${URL}/${endpoint}`\n",
        "    let ip=await browserData();\n",
        "    let retData=await fetch(url,{\n",
        "        method:\"POST\",\n",
        "        mode:\"cors\",\n",
        "        headers:{\n",
        "            \"Access-Control-Allow-Origin\":\"*\",\n",
        "            \"content-type\":\"application/json\",\n",
        "            \"ip\":ip\n",
        "        },\n",
        "        body:JSON.stringify(data),\n",
        "        credentials:\"include\"\n",
        "    });\n",
        "    retData=await retData.json();\n",
        "    if(retData[\"status\"]===\"not logged in\"){\n",
        "        location.href=\"login.html\"\n",
        "    }\n",
        "    return retData;\n",
        "}\n",
        "\n",
        "export const getter=async(endpoint)=>{\n",
        "    let url=`${URL}/${endpoint}`\n",
        "    let ip=await browserData();\n",
        "    let retData=await fetch(url,{\n",
        "        headers:{\n",
        "            \"ip\":ip\n",
        "        },\n",
        "        credentials:\"include\"\n",
        "    });\n",
        "    retData=await retData.json();\n",
        "    if(retData[\"status\"]===\"not logged in\" && endpoint!==\"islogin\"){\n",
        "        location.href=\"login.html\"\n",
        "    }\n",
        "    return retData;\n",
        "}"
      ]
    }
  ]
}