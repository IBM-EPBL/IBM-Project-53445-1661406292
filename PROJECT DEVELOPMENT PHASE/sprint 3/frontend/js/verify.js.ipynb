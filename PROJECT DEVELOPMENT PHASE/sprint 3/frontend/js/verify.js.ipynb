{
  "nbformat": 4,
  "nbformat_minor": 0,
  "metadata": {
    "colab": {
      "provenance": []
    },
    "kernelspec": {
      "name": "python3",
      "display_name": "Python 3"
    },
    "language_info": {
      "name": "python"
    }
  },
  "cells": [
    {
      "cell_type": "code",
      "execution_count": null,
      "metadata": {
        "id": "3DNHnWwNWOpE"
      },
      "outputs": [],
      "source": [
        "import { poster } from \"./modules/server.js\";\n",
        "\n",
        "const queryString = window.location.search;\n",
        "const urlParams = new URLSearchParams(queryString);\n",
        "\n",
        "const token = urlParams.get(\"token\");\n",
        "async function verifyer() {\n",
        "  let data = await poster(\"register/verify\", {\n",
        "    token: token,\n",
        "  });\n",
        "  if (data[\"status\"] === \"Couldn't verify\") {\n",
        "    document.querySelector(\n",
        "      \".status-cont\"\n",
        "    ).innerHTML = `<div class=\"welcome-text\">Uh oh...😞</div>\n",
        "        <div class=\"sub-text\">Couldn't verify you at this moment...</div>`;\n",
        "    setTimeout(() => {\n",
        "      location.href = \"login.html\";\n",
        "    }, 8000);\n",
        "  }\n",
        "  if (data[\"status\"] === \"verified successfully\") {\n",
        "    document.querySelector(\n",
        "      \".status-cont\"\n",
        "    ).innerHTML = `<div class=\"welcome-text\">வணக்கம் 🙏</div>\n",
        "        <div class=\"sub-text\">Let's know what's happening around us...</div>`;\n",
        "    setTimeout(() => {\n",
        "      location.href = \"login.html\";\n",
        "    }, 8000);\n",
        "  }\n",
        "}\n",
        "verifyer();"
      ]
    }
  ]
}