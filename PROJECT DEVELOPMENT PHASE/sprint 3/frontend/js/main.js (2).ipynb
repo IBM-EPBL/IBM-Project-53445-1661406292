{
  "nbformat": 4,
  "nbformat_minor": 0,
  "metadata": {
    "colab": {
      "provenance": []
    },
    "kernelspec": {
      "name": "python3",
      "display_name": "Python 3"
    },
    "language_info": {
      "name": "python"
    }
  },
  "cells": [
    {
      "cell_type": "code",
      "execution_count": null,
      "metadata": {
        "id": "EWxCzZ6WVmor"
      },
      "outputs": [],
      "source": [
        "// logout button\n",
        "\n",
        "const profile_button = document.getElementById(\"user_icon\");\n",
        "const profile_div = document.querySelector(\".profile_div\");\n",
        "profile_button.addEventListener('click', ()=>{\n",
        "    profile_div.classList.toggle(\"display_none\");\n",
        "})\n",
        "\n",
        "let nav_buttons = document.querySelectorAll(\".nav_button\");\n",
        "nav_buttons.forEach(nav_button => {\n",
        "    nav_button.addEventListener('click', () => {\n",
        "        nav_buttons.forEach(nav_btn => {\n",
        "            if(nav_btn.classList.contains(\"selected_nav_item\")){\n",
        "                nav_btn.classList.remove(\"selected_nav_item\");\n",
        "            }\n",
        "            nav_button.classList.add(\"selected_nav_item\");\n",
        "        })\n",
        "    })\n",
        "});\n",
        "\n",
        "\n"
      ]
    }
  ]
}