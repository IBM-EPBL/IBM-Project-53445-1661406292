{
  "nbformat": 4,
  "nbformat_minor": 0,
  "metadata": {
    "colab": {
      "provenance": []
    },
    "kernelspec": {
      "name": "python3",
      "display_name": "Python 3"
    },
    "language_info": {
      "name": "python"
    }
  },
  "cells": [
    {
      "cell_type": "code",
      "execution_count": null,
      "metadata": {
        "id": "mBEgyzQyV8Rx"
      },
      "outputs": [],
      "source": [
        "import { getter } from \"./modules/server.js\";\n",
        "\n",
        "window.addEventListener(\"load\",()=>{\n",
        "    const queryString = window.location.search;\n",
        "    const urlParams = new URLSearchParams(queryString);\n",
        "    const url = urlParams.get(\"url\");\n",
        "    document.querySelector(\"iframe\").src=url;\n",
        "})\n",
        "\n",
        "document.querySelector(\".logout\").addEventListener(\"click\",()=>{\n",
        "    getter(\"logout\");\n",
        "})"
      ]
    }
  ]
}