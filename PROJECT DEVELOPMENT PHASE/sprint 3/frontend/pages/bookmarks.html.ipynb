{
  "nbformat": 4,
  "nbformat_minor": 0,
  "metadata": {
    "colab": {
      "provenance": []
    },
    "kernelspec": {
      "name": "python3",
      "display_name": "Python 3"
    },
    "language_info": {
      "name": "python"
    }
  },
  "cells": [
    {
      "cell_type": "code",
      "execution_count": null,
      "metadata": {
        "id": "fe7WQ70jW91m"
      },
      "outputs": [],
      "source": [
        "<!DOCTYPE html>\n",
        "<html lang=\"en\">\n",
        "<head>\n",
        "    <meta charset=\"UTF-8\">\n",
        "    <meta http-equiv=\"X-UA-Compatible\" content=\"IE=edge\">\n",
        "    <meta name=\"viewport\" content=\"width=device-width, initial-scale=1.0\">\n",
        "    <link rel=\"stylesheet\" href=\"../css/bookmarks.css\">\n",
        "    <link rel=\"stylesheet\" href=\"../css/index.css\">\n",
        "    <title>Document</title>\n",
        "</head>\n",
        "<body>\n",
        "    <nav id=\"head_nav\">\n",
        "        <div class=\"title_container\">\n",
        "            <img id=\"ham_icon\" src=\"../assets/hamburger 1.svg\" alt=\"ham_icon\">\n",
        "            <h1 id=\"app_name\">News App</h1>\n",
        "            <!-- <div class=\"search_container\">\n",
        "                <input type=\"text\" \n",
        "                    id=\"search_box\"\n",
        "                    placeholder=\"Search for topics, locations and resources\"\n",
        "                >\n",
        "            </div> -->\n",
        "            <img id=\"user_icon\" src=\"../assets/user 1.svg\" alt=\"user_icon\">\n",
        "            <div class=\"profile_div display_none\">\n",
        "                <a class=\"bookmarked_link\" href=\"./bookmarks.html\"><h3 class=\"bookmarked\">Bookmarks</h3></a>\n",
        "                <h3 class=\"logout\">Logout</h3>\n",
        "            </div>\n",
        "        </div>\n",
        "    </nav>\n",
        "\n",
        "    <section id=\"home\">\n",
        "        <div class=\"animation-container none\">\n",
        "            <img src=\"../assets/saving.gif\" alt=\"\">\n",
        "            <h3>Deleting...🌟</h3>\n",
        "          </div>\n",
        "        <div class=\"vertical-wrapper\">\n",
        "            <div class=\"loading-cont\">\n",
        "              <img src=\"../assets/newspaper-spinner.gif\" alt=\"\">\n",
        "              <h2>This may take some time...⌛️</h2>\n",
        "            </div>\n",
        "          </div>\n",
        "    </section>\n",
        "<script src=\"../js/main.js\"></script>\n",
        "<script src=\"../js/bookmarks.js\" type=\"module\"></script>\n",
        "</body>\n",
        "</html>"
      ]
    }
  ]
}