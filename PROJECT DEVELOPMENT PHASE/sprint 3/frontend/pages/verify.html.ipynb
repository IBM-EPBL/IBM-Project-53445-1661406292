{
  "nbformat": 4,
  "nbformat_minor": 0,
  "metadata": {
    "colab": {
      "provenance": []
    },
    "kernelspec": {
      "name": "python3",
      "display_name": "Python 3"
    },
    "language_info": {
      "name": "python"
    }
  },
  "cells": [
    {
      "cell_type": "code",
      "execution_count": null,
      "metadata": {
        "id": "PEDtQ5cQYGVL"
      },
      "outputs": [],
      "source": [
        "<!DOCTYPE html>\n",
        "<html lang=\"en\">\n",
        "  <head>\n",
        "    <meta charset=\"UTF-8\" />\n",
        "    <meta http-equiv=\"X-UA-Compatible\" content=\"IE=edge\" />\n",
        "    <meta name=\"viewport\" content=\"width=device-width, initial-scale=1.0\" />\n",
        "    <link rel=\"stylesheet\" href=\"../css/verify.css\" />\n",
        "    <title>Verify</title>\n",
        "  </head>\n",
        "  <body>\n",
        "    <nav id=\"head_nav\">\n",
        "      <div class=\"title_container\">\n",
        "        <h1 id=\"app_name\">News Tracker</h1>\n",
        "      </div>\n",
        "    </nav>\n",
        "    <div class=\"status-cont\">\n",
        "      <div class=\"welcome-text\">Please wait...⏳</div>\n",
        "    </div>\n",
        "  </body>\n",
        "  <script src=\"../js/verify.js\" type=\"module\"></script>\n",
        "</html>"
      ]
    }
  ]
}