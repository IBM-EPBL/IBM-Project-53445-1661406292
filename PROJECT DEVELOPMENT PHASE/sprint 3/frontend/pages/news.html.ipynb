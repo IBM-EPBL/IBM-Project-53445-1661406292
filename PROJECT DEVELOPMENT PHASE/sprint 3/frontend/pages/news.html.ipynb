{
  "nbformat": 4,
  "nbformat_minor": 0,
  "metadata": {
    "colab": {
      "provenance": []
    },
    "kernelspec": {
      "name": "python3",
      "display_name": "Python 3"
    },
    "language_info": {
      "name": "python"
    }
  },
  "cells": [
    {
      "cell_type": "code",
      "execution_count": null,
      "metadata": {
        "id": "X0TN1qbzX3Ke"
      },
      "outputs": [],
      "source": [
        "<!DOCTYPE html>\n",
        "<html lang=\"en\">\n",
        "<head>\n",
        "    <meta charset=\"UTF-8\">\n",
        "    <meta http-equiv=\"X-UA-Compatible\" content=\"IE=edge\">\n",
        "    <meta name=\"viewport\" content=\"width=device-width, initial-scale=1.0\">\n",
        "    <link rel=\"stylesheet\" href=\"../css/news.css\">\n",
        "    <title>Document</title>\n",
        "</head>\n",
        "<body>\n",
        "    <nav id=\"head_nav\">\n",
        "        <div class=\"title_container\">\n",
        "            <img id=\"ham_icon\" src=\"../assets/hamburger 1.svg\" alt=\"ham_icon\">\n",
        "            <h1 id=\"app_name\">News App</h1>\n",
        "            <!-- <div class=\"search_container\">\n",
        "                <input type=\"text\" \n",
        "                    id=\"search_box\"\n",
        "                    placeholder=\"Search for topics, locations and resources\"\n",
        "                >\n",
        "            </div> -->\n",
        "            <img id=\"user_icon\" src=\"../assets/user 1.svg\" alt=\"user_icon\">\n",
        "            <div class=\"profile_div display_none\">\n",
        "                <h3 class=\"logout\">Logout</h3>\n",
        "            </div>\n",
        "        </div>\n",
        "    </nav>\n",
        "    <iframe src=\"\" frameborder=\"0\">\n",
        "        <!-- news API -->\n",
        "    </iframe>\n",
        "    <script src=\"../js/news.js\" type=\"module\"></script>\n",
        "    <script src=\"../js/main.js\"></script>\n",
        "</body>\n",
        "</html>"
      ]
    }
  ]
}