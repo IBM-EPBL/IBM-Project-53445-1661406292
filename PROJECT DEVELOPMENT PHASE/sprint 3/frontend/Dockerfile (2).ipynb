{
  "nbformat": 4,
  "nbformat_minor": 0,
  "metadata": {
    "colab": {
      "provenance": []
    },
    "kernelspec": {
      "name": "python3",
      "display_name": "Python 3"
    },
    "language_info": {
      "name": "python"
    }
  },
  "cells": [
    {
      "cell_type": "code",
      "execution_count": null,
      "metadata": {
        "id": "_25xRgdTYeyk"
      },
      "outputs": [],
      "source": [
        "FROM node\n",
        "\n",
        "WORKDIR /frontend\n",
        "RUN apt-get update\n",
        "RUN apt-get -y upgrade\n",
        "COPY . .\n",
        "EXPOSE 5000\n",
        "CMD [\"node\",\"server.js\"]"
      ]
    }
  ]
}