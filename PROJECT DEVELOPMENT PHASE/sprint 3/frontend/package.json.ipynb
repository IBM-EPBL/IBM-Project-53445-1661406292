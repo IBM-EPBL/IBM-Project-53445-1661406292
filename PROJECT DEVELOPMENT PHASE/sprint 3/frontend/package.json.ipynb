{
  "nbformat": 4,
  "nbformat_minor": 0,
  "metadata": {
    "colab": {
      "provenance": []
    },
    "kernelspec": {
      "name": "python3",
      "display_name": "Python 3"
    },
    "language_info": {
      "name": "python"
    }
  },
  "cells": [
    {
      "cell_type": "code",
      "execution_count": null,
      "metadata": {
        "id": "cBhyTlbIZOhc"
      },
      "outputs": [],
      "source": [
        "{\n",
        "  \"name\": \"frontend\",\n",
        "  \"version\": \"1.0.0\",\n",
        "  \"description\": \"\",\n",
        "  \"main\": \"index.js\",\n",
        "  \"scripts\": {\n",
        "    \"test\": \"echo \\\"Error: no test specified\\\" && exit 1\"\n",
        "  },\n",
        "  \"keywords\": [],\n",
        "  \"author\": \"\",\n",
        "  \"license\": \"ISC\",\n",
        "  \"dependencies\": {\n",
        "    \"express\": \"^4.18.2\"\n",
        "  }\n",
        "}"
      ]
    }
  ]
}