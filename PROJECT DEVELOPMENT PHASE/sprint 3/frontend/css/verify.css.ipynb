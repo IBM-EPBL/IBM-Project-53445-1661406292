{
  "nbformat": 4,
  "nbformat_minor": 0,
  "metadata": {
    "colab": {
      "provenance": []
    },
    "kernelspec": {
      "name": "python3",
      "display_name": "Python 3"
    },
    "language_info": {
      "name": "python"
    }
  },
  "cells": [
    {
      "cell_type": "code",
      "execution_count": null,
      "metadata": {
        "id": "Lylsic9vR1r3"
      },
      "outputs": [],
      "source": [
        "@import url('https://fonts.googleapis.com/css2?family=Roboto:wght@100;300&display=swap');\n",
        "\n",
        "*,*::before,*::after{\n",
        "    margin: 0;\n",
        "    padding: 0;\n",
        "    box-sizing: border-box;\n",
        "    font-family: 'Roboto', sans-serif;\n",
        "}\n",
        "body{\n",
        "    background-color: aliceblue;\n",
        "    min-height: 100vh;\n",
        "}\n",
        "nav {\n",
        "    display: flex;\n",
        "    flex-direction: column;\n",
        "    justify-content: space-between;\n",
        "    align-items: center;\n",
        "    margin: auto;\n",
        "    min-width: 100%;\n",
        "    box-shadow: 0 0 5px rgba(35, 35, 35, 0.584);\n",
        "    background-color: #d9d9d9be;\n",
        "    padding: 1rem;\n",
        "}\n",
        "\n",
        ".status-cont{\n",
        "    display: flex;\n",
        "    min-height: 70vh;\n",
        "    flex-direction: column;\n",
        "    align-items: center;\n",
        "    justify-content: center;\n",
        "    font-weight: medium;\n",
        "    text-align: center;\n",
        "    padding: 1rem;\n",
        "}\n",
        "\n",
        ".welcome-text{\n",
        "    font-size: 2.5rem;\n",
        "}\n",
        "\n",
        ".sub-text{\n",
        "    font-size: 1.5rem;\n",
        "}"
      ]
    }
  ]
}