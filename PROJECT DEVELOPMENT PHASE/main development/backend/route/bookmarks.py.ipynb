{
  "nbformat": 4,
  "nbformat_minor": 0,
  "metadata": {
    "colab": {
      "provenance": []
    },
    "kernelspec": {
      "name": "python3",
      "display_name": "Python 3"
    },
    "language_info": {
      "name": "python"
    }
  },
  "cells": [
    {
      "cell_type": "code",
      "execution_count": null,
      "metadata": {
        "id": "uoQYhzhrf_t8"
      },
      "outputs": [],
      "source": [
        "from flask_restful import Resource;\n",
        "from flask import request,after_this_request;\n",
        "from utils.cookieChecker import token_required\n",
        "from utils.dbQuery import selectQuery,insertQuery\n",
        "\n",
        "class Bookamark(Resource):\n",
        "    @token_required\n",
        "    def get(email,self):\n",
        "        bookmarks_id=selectQuery('SELECT BOOKMARKS FROM USER WHERE EMAIL=?',(email,))['BOOKMARKS']\n",
        "        bookmarks_id=bookmarks_id.split(',')\n",
        "        bookmarks=[]\n",
        "        if(bookmarks_id==['']):\n",
        "            bookmarks_id=[]\n",
        "        for x in bookmarks_id:\n",
        "            data=selectQuery('SELECT DATA FROM BOOKMARK WHERE ID=?',(x,))['DATA']\n",
        "            bookmarks.append(data)\n",
        "        resp={\"data\":bookmarks,\"id\":bookmarks_id}\n",
        "        return resp,200\n",
        "    \n",
        "    @token_required\n",
        "    def post(email,self):\n",
        "        req=request.json\n",
        "        news=req[\"news\"]\n",
        "        # Query to check previous inserted\n",
        "        id=selectQuery('SELECT ID FROM BOOKMARK WHERE DATA=?',(news,))\n",
        "        if(id==False):\n",
        "            insertQuery('INSERT INTO BOOKMARK (DATA) VALUES (?)',(news,))\n",
        "            id=selectQuery('SELECT ID FROM BOOKMARK WHERE DATA=?',(news,))['ID']\n",
        "        else:\n",
        "            id=id['ID']\n",
        "        new_bookmarks_id=[]\n",
        "        bookmarks_id=selectQuery('SELECT BOOKMARKS FROM USER WHERE EMAIL=?',(email,))\n",
        "        if(bookmarks_id==False):\n",
        "            bookmarks_id=[]\n",
        "        else:\n",
        "            bookmarks_id=bookmarks_id['BOOKMARKS']\n",
        "            bookmarks_id=bookmarks_id.split(',')\n",
        "        if(bookmarks_id==['']):\n",
        "            bookmarks_id=[]\n",
        "        insertCurr=True\n",
        "        for x in bookmarks_id:\n",
        "            new_bookmarks_id.append(x)\n",
        "            if(int(x)==id):\n",
        "                insertCurr=False\n",
        "        if(insertCurr):\n",
        "            new_bookmarks_id.append(str(id))\n",
        "            x=\",\".join([str(i) for i in new_bookmarks_id])\n",
        "            @after_this_request\n",
        "            def inserter(response):\n",
        "                insertQuery('UPDATE USER SET BOOKMARKS=? WHERE EMAIL=?',(x,email))\n",
        "                return response\n",
        "        return {\"status\":\"inserted\"},200\n",
        "class UnBookMark(Resource):\n",
        "    @token_required\n",
        "    def post(email,self):\n",
        "        req=request.json;\n",
        "        id=req[\"id\"]\n",
        "        bookmarks_id=selectQuery('SELECT BOOKMARKS FROM USER WHERE EMAIL=?',(email,))['BOOKMARKS']\n",
        "        bookmarks_id=bookmarks_id.split(',')\n",
        "        new_bookmarks=[]\n",
        "        for x in bookmarks_id:\n",
        "            if(x!=id):\n",
        "               new_bookmarks.append(x)\n",
        "        if(new_bookmarks==[]):\n",
        "            new_bookmarks=''\n",
        "        new_bookmarks=\",\".join([str(i) for i in new_bookmarks])\n",
        "        @after_this_request\n",
        "        def inserter(response):\n",
        "            insertQuery('UPDATE USER SET BOOKMARKS=? WHERE EMAIL=?',(new_bookmarks,email))\n",
        "            return response\n",
        "        return {\"status\":\"deleted\"},200"
      ]
    }
  ]
}