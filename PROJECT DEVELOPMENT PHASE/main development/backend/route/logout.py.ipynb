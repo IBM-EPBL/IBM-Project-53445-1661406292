{
  "nbformat": 4,
  "nbformat_minor": 0,
  "metadata": {
    "colab": {
      "provenance": []
    },
    "kernelspec": {
      "name": "python3",
      "display_name": "Python 3"
    },
    "language_info": {
      "name": "python"
    }
  },
  "cells": [
    {
      "cell_type": "code",
      "execution_count": null,
      "metadata": {
        "id": "5PvBQig4ghUs"
      },
      "outputs": [],
      "source": [
        "from flask_restful import Resource,current_app\n",
        "from utils.cookieChecker import token_required\n",
        "from flask import request,after_this_request\n",
        "\n",
        "class LogOut(Resource):\n",
        "    @token_required\n",
        "    def get(email,self):\n",
        "        resp={\"status\":\"not logged in\"}\n",
        "        @after_this_request\n",
        "        def deleter(response):\n",
        "            response.delete_cookie(\"access_token\",path=\"/\",samesite=\"none\",secure=True)\n",
        "            response.delete_cookie(\"email\",path=\"/\",samesite=\"none\",secure=True)\n",
        "            return response\n",
        "        return resp,200"
      ]
    }
  ]
}