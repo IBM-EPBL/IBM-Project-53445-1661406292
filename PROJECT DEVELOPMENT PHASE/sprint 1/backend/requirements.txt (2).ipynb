{
  "nbformat": 4,
  "nbformat_minor": 0,
  "metadata": {
    "colab": {
      "provenance": []
    },
    "kernelspec": {
      "name": "python3",
      "display_name": "Python 3"
    },
    "language_info": {
      "name": "python"
    }
  },
  "cells": [
    {
      "cell_type": "code",
      "execution_count": null,
      "metadata": {
        "id": "dnnTB9HPliXz"
      },
      "outputs": [],
      "source": [
        "aniso8601==9.0.1\n",
        "autopep8==1.7.0\n",
        "bcrypt==4.0.1\n",
        "certifi==2022.9.24\n",
        "cffi==1.15.1\n",
        "charset-normalizer==2.1.1\n",
        "click==8.1.3\n",
        "cryptography==38.0.1\n",
        "dateparser==1.1.1\n",
        "Flask==2.2.2\n",
        "Flask-Cors==3.0.10\n",
        "Flask-RESTful==0.3.9\n",
        "ibm-db==3.1.3\n",
        "idna==3.4\n",
        "itsdangerous==2.1.2\n",
        "Jinja2==3.1.2\n",
        "MarkupSafe==2.1.1\n",
        "pycodestyle==2.9.1\n",
        "pycparser==2.21\n",
        "PyJWT==2.5.0\n",
        "python-dateutil==2.8.2\n",
        "python-dotenv==0.21.0\n",
        "pytz==2022.4\n",
        "pytz-deprecation-shim==0.1.0.post0\n",
        "regex==2022.3.2\n",
        "requests==2.28.1\n",
        "six==1.16.0\n",
        "toml==0.10.2\n",
        "tzdata==2022.4\n",
        "tzlocal==4.2\n",
        "urllib3==1.26.12\n",
        "Werkzeug==2.2.2"
      ]
    }
  ]
}